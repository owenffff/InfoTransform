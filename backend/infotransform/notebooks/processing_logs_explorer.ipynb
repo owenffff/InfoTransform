{
 "cells": [
  {
   "cell_type": "markdown",
   "metadata": {},
   "source": [
    "# Processing Logs Explorer\n",
    "\n",
    "Quick analysis of InfoTransform processing logs from SQLite database."
   ]
  },
  {
   "cell_type": "code",
   "execution_count": 4,
   "metadata": {},
   "outputs": [
    {
     "name": "stdout",
     "output_type": "stream",
     "text": [
      "✅ Database: /Users/owen/Desktop/dev_projects/InfoTransform/backend/infotransform/notebooks/../data/processing_logs.db\n",
      "✅ Exists: True\n",
      "✅ Size: 28.00 KB\n"
     ]
    }
   ],
   "source": [
    "import sqlite3\n",
    "import pandas as pd\n",
    "from pathlib import Path\n",
    "\n",
    "# Database path\n",
    "DB_PATH = Path(\"../data/processing_logs.db\")\n",
    "\n",
    "\n",
    "def query_db(sql, params=None):\n",
    "    \"\"\"Execute query and return DataFrame\"\"\"\n",
    "    conn = sqlite3.connect(str(DB_PATH))\n",
    "    df = pd.read_sql_query(sql, conn, params=params)\n",
    "    conn.close()\n",
    "    return df\n",
    "\n",
    "\n",
    "print(f\"✅ Database: {DB_PATH.absolute()}\")\n",
    "print(f\"✅ Exists: {DB_PATH.exists()}\")\n",
    "if DB_PATH.exists():\n",
    "    print(f\"✅ Size: {DB_PATH.stat().st_size / 1024:.2f} KB\")"
   ]
  },
  {
   "cell_type": "markdown",
   "metadata": {},
   "source": [
    "## Overall Statistics"
   ]
  },
  {
   "cell_type": "code",
   "execution_count": 5,
   "metadata": {},
   "outputs": [
    {
     "data": {
      "text/html": [
       "<div>\n",
       "<style scoped>\n",
       "    .dataframe tbody tr th:only-of-type {\n",
       "        vertical-align: middle;\n",
       "    }\n",
       "\n",
       "    .dataframe tbody tr th {\n",
       "        vertical-align: top;\n",
       "    }\n",
       "\n",
       "    .dataframe thead th {\n",
       "        text-align: right;\n",
       "    }\n",
       "</style>\n",
       "<table border=\"1\" class=\"dataframe\">\n",
       "  <thead>\n",
       "    <tr style=\"text-align: right;\">\n",
       "      <th></th>\n",
       "      <th>total_runs</th>\n",
       "      <th>total_files</th>\n",
       "      <th>successful</th>\n",
       "      <th>failed</th>\n",
       "      <th>total_tokens</th>\n",
       "      <th>avg_duration</th>\n",
       "    </tr>\n",
       "  </thead>\n",
       "  <tbody>\n",
       "    <tr>\n",
       "      <th>0</th>\n",
       "      <td>1</td>\n",
       "      <td>1</td>\n",
       "      <td>1</td>\n",
       "      <td>0</td>\n",
       "      <td>3174</td>\n",
       "      <td>5.753479</td>\n",
       "    </tr>\n",
       "  </tbody>\n",
       "</table>\n",
       "</div>"
      ],
      "text/plain": [
       "   total_runs  total_files  successful  failed  total_tokens  avg_duration\n",
       "0           1            1           1       0          3174      5.753479"
      ]
     },
     "execution_count": 5,
     "metadata": {},
     "output_type": "execute_result"
    }
   ],
   "source": [
    "# Summary stats\n",
    "summary = query_db(\"\"\"\n",
    "    SELECT \n",
    "        COUNT(*) as total_runs,\n",
    "        SUM(total_files) as total_files,\n",
    "        SUM(successful_files) as successful,\n",
    "        SUM(failed_files) as failed,\n",
    "        SUM(total_tokens) as total_tokens,\n",
    "        AVG(duration_seconds) as avg_duration\n",
    "    FROM processing_runs\n",
    "    WHERE status = 'completed'\n",
    "\"\"\")\n",
    "\n",
    "summary"
   ]
  },
  {
   "cell_type": "markdown",
   "metadata": {},
   "source": [
    "## Recent Runs"
   ]
  },
  {
   "cell_type": "code",
   "execution_count": 6,
   "metadata": {},
   "outputs": [
    {
     "data": {
      "text/html": [
       "<div>\n",
       "<style scoped>\n",
       "    .dataframe tbody tr th:only-of-type {\n",
       "        vertical-align: middle;\n",
       "    }\n",
       "\n",
       "    .dataframe tbody tr th {\n",
       "        vertical-align: top;\n",
       "    }\n",
       "\n",
       "    .dataframe thead th {\n",
       "        text-align: right;\n",
       "    }\n",
       "</style>\n",
       "<table border=\"1\" class=\"dataframe\">\n",
       "  <thead>\n",
       "    <tr style=\"text-align: right;\">\n",
       "      <th></th>\n",
       "      <th>run_id</th>\n",
       "      <th>start_timestamp</th>\n",
       "      <th>model_key</th>\n",
       "      <th>total_files</th>\n",
       "      <th>successful_files</th>\n",
       "      <th>total_tokens</th>\n",
       "      <th>duration_seconds</th>\n",
       "      <th>status</th>\n",
       "    </tr>\n",
       "  </thead>\n",
       "  <tbody>\n",
       "    <tr>\n",
       "      <th>0</th>\n",
       "      <td>0ca2cde3-908b-4e19-b7cf-302ce55447de</td>\n",
       "      <td>2025-10-16T15:41:06.628918+00:00</td>\n",
       "      <td>document_metadata</td>\n",
       "      <td>1</td>\n",
       "      <td>1</td>\n",
       "      <td>3174</td>\n",
       "      <td>5.753479</td>\n",
       "      <td>completed</td>\n",
       "    </tr>\n",
       "  </tbody>\n",
       "</table>\n",
       "</div>"
      ],
      "text/plain": [
       "                                 run_id                   start_timestamp  \\\n",
       "0  0ca2cde3-908b-4e19-b7cf-302ce55447de  2025-10-16T15:41:06.628918+00:00   \n",
       "\n",
       "           model_key  total_files  successful_files  total_tokens  \\\n",
       "0  document_metadata            1                 1          3174   \n",
       "\n",
       "   duration_seconds     status  \n",
       "0          5.753479  completed  "
      ]
     },
     "execution_count": 6,
     "metadata": {},
     "output_type": "execute_result"
    }
   ],
   "source": [
    "# Last 10 runs\n",
    "recent = query_db(\"\"\"\n",
    "    SELECT \n",
    "        run_id,\n",
    "        start_timestamp,\n",
    "        model_key,\n",
    "        total_files,\n",
    "        successful_files,\n",
    "        total_tokens,\n",
    "        duration_seconds,\n",
    "        status\n",
    "    FROM processing_runs\n",
    "    ORDER BY start_timestamp DESC\n",
    "    LIMIT 10\n",
    "\"\"\")\n",
    "\n",
    "recent"
   ]
  },
  {
   "cell_type": "markdown",
   "metadata": {},
   "source": [
    "## Token Usage by Model"
   ]
  },
  {
   "cell_type": "code",
   "execution_count": 8,
   "metadata": {},
   "outputs": [
    {
     "data": {
      "text/html": [
       "<div>\n",
       "<style scoped>\n",
       "    .dataframe tbody tr th:only-of-type {\n",
       "        vertical-align: middle;\n",
       "    }\n",
       "\n",
       "    .dataframe tbody tr th {\n",
       "        vertical-align: top;\n",
       "    }\n",
       "\n",
       "    .dataframe thead th {\n",
       "        text-align: right;\n",
       "    }\n",
       "</style>\n",
       "<table border=\"1\" class=\"dataframe\">\n",
       "  <thead>\n",
       "    <tr style=\"text-align: right;\">\n",
       "      <th></th>\n",
       "      <th>model_key</th>\n",
       "      <th>runs</th>\n",
       "      <th>total_tokens</th>\n",
       "      <th>avg_tokens</th>\n",
       "      <th>input_tokens</th>\n",
       "      <th>output_tokens</th>\n",
       "    </tr>\n",
       "  </thead>\n",
       "  <tbody>\n",
       "    <tr>\n",
       "      <th>0</th>\n",
       "      <td>document_metadata</td>\n",
       "      <td>1</td>\n",
       "      <td>3174</td>\n",
       "      <td>3174.0</td>\n",
       "      <td>2993</td>\n",
       "      <td>181</td>\n",
       "    </tr>\n",
       "  </tbody>\n",
       "</table>\n",
       "</div>"
      ],
      "text/plain": [
       "           model_key  runs  total_tokens  avg_tokens  input_tokens  \\\n",
       "0  document_metadata     1          3174      3174.0          2993   \n",
       "\n",
       "   output_tokens  \n",
       "0            181  "
      ]
     },
     "execution_count": 8,
     "metadata": {},
     "output_type": "execute_result"
    }
   ],
   "source": [
    "# Token usage per model\n",
    "tokens_by_model = query_db(\"\"\"\n",
    "    SELECT \n",
    "        model_key,\n",
    "        COUNT(*) as runs,\n",
    "        SUM(total_tokens) as total_tokens,\n",
    "        AVG(total_tokens) as avg_tokens,\n",
    "        SUM(input_tokens) as input_tokens,\n",
    "        SUM(output_tokens) as output_tokens\n",
    "    FROM processing_runs\n",
    "    WHERE status = 'completed'\n",
    "    GROUP BY model_key\n",
    "    ORDER BY total_tokens DESC\n",
    "\"\"\")\n",
    "\n",
    "tokens_by_model"
   ]
  },
  {
   "cell_type": "markdown",
   "metadata": {},
   "source": [
    "## Performance Metrics"
   ]
  },
  {
   "cell_type": "code",
   "execution_count": 9,
   "metadata": {},
   "outputs": [
    {
     "data": {
      "text/html": [
       "<div>\n",
       "<style scoped>\n",
       "    .dataframe tbody tr th:only-of-type {\n",
       "        vertical-align: middle;\n",
       "    }\n",
       "\n",
       "    .dataframe tbody tr th {\n",
       "        vertical-align: top;\n",
       "    }\n",
       "\n",
       "    .dataframe thead th {\n",
       "        text-align: right;\n",
       "    }\n",
       "</style>\n",
       "<table border=\"1\" class=\"dataframe\">\n",
       "  <thead>\n",
       "    <tr style=\"text-align: right;\">\n",
       "      <th></th>\n",
       "      <th>model_key</th>\n",
       "      <th>runs</th>\n",
       "      <th>avg_duration</th>\n",
       "      <th>avg_files</th>\n",
       "      <th>success_rate</th>\n",
       "    </tr>\n",
       "  </thead>\n",
       "  <tbody>\n",
       "    <tr>\n",
       "      <th>0</th>\n",
       "      <td>document_metadata</td>\n",
       "      <td>1</td>\n",
       "      <td>5.753479</td>\n",
       "      <td>1.0</td>\n",
       "      <td>100.0</td>\n",
       "    </tr>\n",
       "  </tbody>\n",
       "</table>\n",
       "</div>"
      ],
      "text/plain": [
       "           model_key  runs  avg_duration  avg_files  success_rate\n",
       "0  document_metadata     1      5.753479        1.0         100.0"
      ]
     },
     "execution_count": 9,
     "metadata": {},
     "output_type": "execute_result"
    }
   ],
   "source": [
    "# Performance by model\n",
    "performance = query_db(\"\"\"\n",
    "    SELECT \n",
    "        model_key,\n",
    "        COUNT(*) as runs,\n",
    "        AVG(duration_seconds) as avg_duration,\n",
    "        AVG(total_files) as avg_files,\n",
    "        ROUND(AVG(CAST(successful_files AS FLOAT) / NULLIF(total_files, 0) * 100), 2) as success_rate\n",
    "    FROM processing_runs\n",
    "    WHERE status = 'completed'\n",
    "    GROUP BY model_key\n",
    "\"\"\")\n",
    "\n",
    "performance"
   ]
  },
  {
   "cell_type": "markdown",
   "metadata": {},
   "source": [
    "## Daily Statistics"
   ]
  },
  {
   "cell_type": "code",
   "execution_count": 10,
   "metadata": {},
   "outputs": [
    {
     "data": {
      "text/html": [
       "<div>\n",
       "<style scoped>\n",
       "    .dataframe tbody tr th:only-of-type {\n",
       "        vertical-align: middle;\n",
       "    }\n",
       "\n",
       "    .dataframe tbody tr th {\n",
       "        vertical-align: top;\n",
       "    }\n",
       "\n",
       "    .dataframe thead th {\n",
       "        text-align: right;\n",
       "    }\n",
       "</style>\n",
       "<table border=\"1\" class=\"dataframe\">\n",
       "  <thead>\n",
       "    <tr style=\"text-align: right;\">\n",
       "      <th></th>\n",
       "      <th>date</th>\n",
       "      <th>runs</th>\n",
       "      <th>files</th>\n",
       "      <th>tokens</th>\n",
       "    </tr>\n",
       "  </thead>\n",
       "  <tbody>\n",
       "    <tr>\n",
       "      <th>0</th>\n",
       "      <td>2025-10-16</td>\n",
       "      <td>1</td>\n",
       "      <td>1</td>\n",
       "      <td>3174</td>\n",
       "    </tr>\n",
       "  </tbody>\n",
       "</table>\n",
       "</div>"
      ],
      "text/plain": [
       "         date  runs  files  tokens\n",
       "0  2025-10-16     1      1    3174"
      ]
     },
     "execution_count": 10,
     "metadata": {},
     "output_type": "execute_result"
    }
   ],
   "source": [
    "# Last 7 days\n",
    "daily = query_db(\"\"\"\n",
    "    SELECT \n",
    "        DATE(start_timestamp) as date,\n",
    "        COUNT(*) as runs,\n",
    "        SUM(total_files) as files,\n",
    "        SUM(total_tokens) as tokens\n",
    "    FROM processing_runs\n",
    "    WHERE status = 'completed'\n",
    "      AND start_timestamp >= datetime('now', '-7 days')\n",
    "    GROUP BY DATE(start_timestamp)\n",
    "    ORDER BY date DESC\n",
    "\"\"\")\n",
    "\n",
    "daily"
   ]
  },
  {
   "cell_type": "markdown",
   "metadata": {},
   "source": [
    "## Cost Estimation"
   ]
  },
  {
   "cell_type": "code",
   "execution_count": 11,
   "metadata": {},
   "outputs": [
    {
     "name": "stdout",
     "output_type": "stream",
     "text": [
      "Total Estimated Cost: $0.0006\n"
     ]
    },
    {
     "data": {
      "text/html": [
       "<div>\n",
       "<style scoped>\n",
       "    .dataframe tbody tr th:only-of-type {\n",
       "        vertical-align: middle;\n",
       "    }\n",
       "\n",
       "    .dataframe tbody tr th {\n",
       "        vertical-align: top;\n",
       "    }\n",
       "\n",
       "    .dataframe thead th {\n",
       "        text-align: right;\n",
       "    }\n",
       "</style>\n",
       "<table border=\"1\" class=\"dataframe\">\n",
       "  <thead>\n",
       "    <tr style=\"text-align: right;\">\n",
       "      <th></th>\n",
       "      <th>model_key</th>\n",
       "      <th>runs</th>\n",
       "      <th>total_tokens</th>\n",
       "      <th>total_cost</th>\n",
       "    </tr>\n",
       "  </thead>\n",
       "  <tbody>\n",
       "    <tr>\n",
       "      <th>0</th>\n",
       "      <td>document_metadata</td>\n",
       "      <td>1</td>\n",
       "      <td>3174</td>\n",
       "      <td>0.000558</td>\n",
       "    </tr>\n",
       "  </tbody>\n",
       "</table>\n",
       "</div>"
      ],
      "text/plain": [
       "           model_key  runs  total_tokens  total_cost\n",
       "0  document_metadata     1          3174    0.000558"
      ]
     },
     "execution_count": 11,
     "metadata": {},
     "output_type": "execute_result"
    }
   ],
   "source": [
    "# Cost estimate (update pricing as needed)\n",
    "INPUT_PRICE_PER_1M = 0.15  # $0.15 per 1M input tokens\n",
    "OUTPUT_PRICE_PER_1M = 0.60  # $0.60 per 1M output tokens\n",
    "\n",
    "cost_df = tokens_by_model.copy()\n",
    "cost_df[\"input_cost\"] = (cost_df[\"input_tokens\"] / 1_000_000) * INPUT_PRICE_PER_1M\n",
    "cost_df[\"output_cost\"] = (cost_df[\"output_tokens\"] / 1_000_000) * OUTPUT_PRICE_PER_1M\n",
    "cost_df[\"total_cost\"] = cost_df[\"input_cost\"] + cost_df[\"output_cost\"]\n",
    "\n",
    "print(f\"Total Estimated Cost: ${cost_df['total_cost'].sum():.4f}\")\n",
    "cost_df[[\"model_key\", \"runs\", \"total_tokens\", \"total_cost\"]]"
   ]
  },
  {
   "cell_type": "markdown",
   "metadata": {},
   "source": [
    "## Export Data"
   ]
  },
  {
   "cell_type": "code",
   "execution_count": 12,
   "metadata": {},
   "outputs": [
    {
     "name": "stdout",
     "output_type": "stream",
     "text": [
      "✅ Exported 1 runs to processing_logs_export.csv\n"
     ]
    }
   ],
   "source": [
    "# Export all completed runs to CSV\n",
    "all_runs = query_db(\n",
    "    \"SELECT * FROM processing_runs WHERE status = 'completed' ORDER BY start_timestamp DESC\"\n",
    ")\n",
    "all_runs.to_csv(\"processing_logs_export.csv\", index=False)\n",
    "print(f\"✅ Exported {len(all_runs)} runs to processing_logs_export.csv\")"
   ]
  }
 ],
 "metadata": {
  "kernelspec": {
   "display_name": "InfoTransform",
   "language": "python",
   "name": "python3"
  },
  "language_info": {
   "codemirror_mode": {
    "name": "ipython",
    "version": 3
   },
   "file_extension": ".py",
   "mimetype": "text/x-python",
   "name": "python",
   "nbconvert_exporter": "python",
   "pygments_lexer": "ipython3",
   "version": "3.11.6"
  }
 },
 "nbformat": 4,
 "nbformat_minor": 4
}
